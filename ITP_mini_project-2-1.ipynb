{
 "cells": [
  {
   "cell_type": "markdown",
   "metadata": {},
   "source": [
    "# <center>PGP Data Science Engineering</center>\n",
    "## <center>Introduction to Programming – Mini Project:</center>\n"
   ]
  },
  {
   "cell_type": "markdown",
   "metadata": {},
   "source": [
    "### Problem 1:\n",
    "\n",
    "1. Write a program to calculate area of shapes. Your program should be capable of calculating the area of a square, rectangle, triangle and a circle. The user should be presented with options to select the shape. Based on which shape is chosed by the user, the program should ask for the appropriate input and print the resulting area on the screen.\n",
    "\n",
    "When the program is run, the screen should display something like this:\n",
    "\n",
    "**Which shape would you like to calculate the area for? Please enter the option number-**<br>\n",
    "**1. Square**<br>\n",
    "**2. Rectangle**<br>\n",
    "**3. Triangle**<br>\n",
    "**4. Circle**<br>\n",
    "**Enter Option: _**\n",
    "\n",
    "Say the user enters the option 1.\n",
    "\n",
    "**Please enter the length of a side: _**\n",
    "\n",
    "If the user enters a value of 5. The output should be:\n",
    "\n",
    "**The area of the square is 25**\n",
    "\n",
    "This program should indicate that the input is invalid if the user enters a character instead of a number as input. For instance if the user enters a value of ‘a’ instead of 5 in the previous example the program should prompt:\n",
    "\n",
    "**Invalid input, please enter a number: _**\n"
   ]
  },
  {
   "cell_type": "code",
   "execution_count": 2,
   "metadata": {},
   "outputs": [
    {
     "name": "stdout",
     "output_type": "stream",
     "text": [
      "Which shape would you like to calculate the area for?\n",
      "1.Square\n",
      "2.Rectangle\n",
      "3.Triangle\n",
      "4.Circle\n",
      "Enter Option:\t1\n",
      "Enter the length of side:\t5\n",
      "The area of square is\t 25.0\n"
     ]
    }
   ],
   "source": [
    "choice=input(\"Which shape would you like to calculate the area for?\\n1.Square\\n2.Rectangle\\n3.Triangle\\n4.Circle\\nEnter Option:\\t\")\n",
    "while True:\n",
    "    if choice=='1':\n",
    "        a=input(\"Enter the length of side:\\t\")\n",
    "        if a.isdigit()==True:\n",
    "            b=float(a)\n",
    "            print(\"The area of square is\\t\",b*b)\n",
    "            break\n",
    "        else:\n",
    "            print(\"Invalid input,please enter a number\")\n",
    "    elif choice=='2':\n",
    "        a=input(\"Enter the length:\\t\")\n",
    "        b=input(\"Enter the breadth:\\t\")\n",
    "        if a.isdigit()==True and b.isdigit()==True:\n",
    "            x=float(a)\n",
    "            y=float(b)\n",
    "            print(\"The area of rectangle is\\t\",x*y)\n",
    "            break\n",
    "        else:\n",
    "            print(\"Invalid input,please enter a number\")\n",
    "    elif choice=='3':\n",
    "        a=input(\"Enter the base length:\\t\")\n",
    "        b=input(\"Enter the height length:\\t\")\n",
    "        if a.isdigit()==True and b.isdigit()==True:\n",
    "            x=float(a)\n",
    "            y=float(b)\n",
    "            print(\"The area of triangle is\\t\",(x*y)/2)\n",
    "            break\n",
    "        else:\n",
    "            print(\"Invalid input,please enter a number\")\n",
    "    elif choice=='4':\n",
    "        a=input(\"Enter the radius of circle:\\t\")\n",
    "        if a.isdigit()==True:\n",
    "            x=float(a)\n",
    "            print(\"The area of circle is\\t\",3.14*x*x)\n",
    "            break\n",
    "        else:\n",
    "                print(\"Invalid input,please enter a number\")\n",
    "    else:\n",
    "        print(\"Invalid choice,please try again\")\n",
    "        continue\n",
    "    \n",
    "    \n"
   ]
  },
  {
   "cell_type": "markdown",
   "metadata": {},
   "source": [
    "### Problem 2:\n",
    "\n",
    "Create and encrypter in python based on the ceaser cipher. It is a substitution cipher where each character of the original text is shifted a certain number characters in the alphabet. Write a function that would require 2 arguments – the input text to be encrypted and a key. For eg: Given the input text ‘hello’ and the key 3, the resulting encryted text would be ‘khoor’. Here you can see that every character in the string hello is shifted by 3 characters. ‘h’ has shifted to ‘k’, ‘e’ has shifted to ‘h’ and so on. If a key of 5 were used, the resulting string would be ‘mjqqt’. This function should be capable of ignoring any characters which are not alphabets. Th2 character ‘z’ entered b\n",
    "y the user for a key of 3 would result in ‘c’.\n",
    "\n",
    "Usage:<br>\n",
    "**encrypt(‘hello world!’, 3)**<br>\n",
    "**‘khoor zruog!’**\n",
    "\n",
    "Similarly create decrypter which can decode the encryted text when provided the input text and key\n",
    "\n",
    "Usage:<br>\n",
    "**decrypt(‘khoor zruog!’, 3)**<br>\n",
    "**‘hello world!’**\n",
    "\n",
    "For the sake of simplicity you can assume that input solely consists of lowercase alphabets, spaces and punctuation symbols. Numbers in the input text would also be ignored similar to symbols."
   ]
  },
  {
   "cell_type": "code",
   "execution_count": 59,
   "metadata": {},
   "outputs": [],
   "source": [
    "def encrypt(a,b):\n",
    "    ff=\"\"\n",
    "    e=[]\n",
    "    f=0\n",
    "    for i in a:\n",
    "        if i.isalpha()==True:\n",
    "            x=ord(a[f])\n",
    "            y=x+b\n",
    "            z=chr(y)\n",
    "            e.append(z)\n",
    "            f+=1\n",
    "        else:\n",
    "            e.append(i)\n",
    "            f+=1 \n",
    "    d=ff.join(e)\n",
    "    print(d)\n",
    "       \n",
    "        \n",
    "    \n",
    "    \n",
    "    "
   ]
  },
  {
   "cell_type": "code",
   "execution_count": 60,
   "metadata": {},
   "outputs": [
    {
     "name": "stdout",
     "output_type": "stream",
     "text": [
      "khoor zruog!\n"
     ]
    }
   ],
   "source": [
    "encrypt('hello world!',3)"
   ]
  },
  {
   "cell_type": "code",
   "execution_count": 61,
   "metadata": {},
   "outputs": [],
   "source": [
    "def decrypt(a,b):\n",
    "    ff=\"\"\n",
    "    s=[]\n",
    "    f=0\n",
    "    for i in a:\n",
    "        if i.isalpha()==True:\n",
    "            x=ord(a[f])\n",
    "            y=x-b\n",
    "            z=chr(y)\n",
    "            s.append(z)\n",
    "            f+=1\n",
    "        else:\n",
    "            s.append(i)\n",
    "            f+=1\n",
    "    d=ff.join(s)\n",
    "    print(d)\n",
    "        \n",
    "        \n",
    "        \n",
    "        \n",
    "        \n",
    "    "
   ]
  },
  {
   "cell_type": "code",
   "execution_count": 62,
   "metadata": {},
   "outputs": [
    {
     "name": "stdout",
     "output_type": "stream",
     "text": [
      "hello world!\n"
     ]
    }
   ],
   "source": [
    "decrypt('khoor zruog!',3)"
   ]
  },
  {
   "cell_type": "code",
   "execution_count": null,
   "metadata": {},
   "outputs": [],
   "source": []
  },
  {
   "cell_type": "code",
   "execution_count": null,
   "metadata": {},
   "outputs": [],
   "source": []
  }
 ],
 "metadata": {
  "kernelspec": {
   "display_name": "Python 3",
   "language": "python",
   "name": "python3"
  },
  "language_info": {
   "codemirror_mode": {
    "name": "ipython",
    "version": 3
   },
   "file_extension": ".py",
   "mimetype": "text/x-python",
   "name": "python",
   "nbconvert_exporter": "python",
   "pygments_lexer": "ipython3",
   "version": "3.7.4"
  }
 },
 "nbformat": 4,
 "nbformat_minor": 2
}
