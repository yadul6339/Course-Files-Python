{
 "cells": [
  {
   "cell_type": "markdown",
   "metadata": {},
   "source": [
    "#### 1. Take two inputs from user and check whether they are equal or not."
   ]
  },
  {
   "cell_type": "code",
   "execution_count": null,
   "metadata": {},
   "outputs": [],
   "source": [
    "a=input(\"Enter the first value:\\t\")\n",
    "b=input(\"Enter the second value:\\t\")\n",
    "if a == b:\n",
    "    print(\"The two values are equal\")\n",
    "else:\n",
    "    print(\"The two values are not equal\")"
   ]
  },
  {
   "cell_type": "markdown",
   "metadata": {},
   "source": [
    "#### 2. Take an single digit integer input from the user (3), print an output for (3+(33))\n"
   ]
  },
  {
   "cell_type": "code",
   "execution_count": 4,
   "metadata": {},
   "outputs": [
    {
     "name": "stdout",
     "output_type": "stream",
     "text": [
      "Enter the single digit integer:\t3\n",
      "3 + 33\n"
     ]
    }
   ],
   "source": [
    "a=int(input(\"Enter the single digit integer:\\t\"))\n",
    "b=(a*11)\n",
    "while a in range(0,10):\n",
    "    print(a,\"+\",b)\n",
    "    break\n",
    "else:\n",
    "    print(\"Invalid option\")"
   ]
  },
  {
   "cell_type": "code",
   "execution_count": null,
   "metadata": {},
   "outputs": [],
   "source": []
  },
  {
   "cell_type": "code",
   "execution_count": null,
   "metadata": {},
   "outputs": [],
   "source": []
  },
  {
   "cell_type": "markdown",
   "metadata": {},
   "source": [
    "#### 3.  Write Python code to get a runtime variable as float and display as integer\n",
    "                   input: float number\n",
    "                   output: int number"
   ]
  },
  {
   "cell_type": "code",
   "execution_count": 27,
   "metadata": {},
   "outputs": [
    {
     "name": "stdout",
     "output_type": "stream",
     "text": [
      "Enter the value\t2.555555555555555555\n",
      "The value is\t 2\n"
     ]
    }
   ],
   "source": [
    "a=float(input(\"Enter the value\\t\"))\n",
    "b=int(a)\n",
    "print(\"The value is\\t\",b)"
   ]
  },
  {
   "cell_type": "markdown",
   "metadata": {},
   "source": [
    "### 4. Create a single string from a LIST of characters."
   ]
  },
  {
   "cell_type": "code",
   "execution_count": 3,
   "metadata": {},
   "outputs": [
    {
     "data": {
      "text/plain": [
       "'great'"
      ]
     },
     "execution_count": 3,
     "metadata": {},
     "output_type": "execute_result"
    }
   ],
   "source": [
    "x=''\n",
    "y=['g','r','e','a','t']\n",
    "x.join(y)"
   ]
  },
  {
   "cell_type": "markdown",
   "metadata": {},
   "source": [
    "#### 5. Python Program to Convert Celsius To Fahrenheit\n",
    "#####  celsius * 1.8 = fahrenheit - 32"
   ]
  },
  {
   "cell_type": "code",
   "execution_count": 12,
   "metadata": {},
   "outputs": [
    {
     "name": "stdout",
     "output_type": "stream",
     "text": [
      "Enter the Celcius degree to be converted:\t100\n",
      "The Fahrenheit value for the given Celcius degree is:\t 212.0 F\n"
     ]
    }
   ],
   "source": [
    "c=float(input(\"Enter the Celcius degree to be converted:\\t\"))\n",
    "print(\"The Fahrenheit value for the given Celcius degree is:\\t\",(c*1.8)+32,\"F\")"
   ]
  },
  {
   "cell_type": "markdown",
   "metadata": {},
   "source": [
    "### 5. Get the number and print it reverse"
   ]
  },
  {
   "cell_type": "code",
   "execution_count": 23,
   "metadata": {},
   "outputs": [
    {
     "name": "stdout",
     "output_type": "stream",
     "text": [
      "Enter the number to be printed\t456789\n",
      "The number is\t 987654\n"
     ]
    }
   ],
   "source": [
    "a=input(\"Enter the number to be printed\\t\")\n",
    "b=str(a)\n",
    "print(\"The number is\\t\",b[::-1])"
   ]
  },
  {
   "cell_type": "markdown",
   "metadata": {},
   "source": [
    "### 6. Check if the given runtime variable nm = \"madam  is Palindrome without using loop, for validation output can be boolean\n"
   ]
  },
  {
   "cell_type": "code",
   "execution_count": 22,
   "metadata": {},
   "outputs": [
    {
     "name": "stdout",
     "output_type": "stream",
     "text": [
      "Enter the word to be checked\tmadam\n",
      "The word is palindrome->\t True\n"
     ]
    }
   ],
   "source": [
    "nm=input(\"Enter the word to be checked\\t\")\n",
    "a=nm[::-1]\n",
    "print(\"The word is palindrome->\\t\",bool(a==nm))"
   ]
  },
  {
   "cell_type": "markdown",
   "metadata": {},
   "source": [
    "### 7. Python code for the given number of days, find how many weeks and how many days are left\n",
    "### eg. input = 15 days, # weeks =  2, # days left = 1"
   ]
  },
  {
   "cell_type": "code",
   "execution_count": 2,
   "metadata": {},
   "outputs": [
    {
     "name": "stdout",
     "output_type": "stream",
     "text": [
      "Enter the number of days:\t15\n",
      "There are 2 weeks and 1 days left\n"
     ]
    }
   ],
   "source": [
    "a=int(input(\"Enter the number of days:\\t\"))\n",
    "b=int((30-a)/7)\n",
    "c=((30-a)-(7*b))                                                                \n",
    "print(\"There are\",b,\"weeks and\",c,\"days left\")"
   ]
  },
  {
   "cell_type": "code",
   "execution_count": null,
   "metadata": {},
   "outputs": [],
   "source": []
  },
  {
   "cell_type": "markdown",
   "metadata": {},
   "source": [
    "### 8. Check if the given number is even  without using loops. Output can be in boolean"
   ]
  },
  {
   "cell_type": "code",
   "execution_count": 5,
   "metadata": {},
   "outputs": [
    {
     "name": "stdout",
     "output_type": "stream",
     "text": [
      "Enter the number to be checked whether it is even or not:\t17\n",
      "The checked number is  False\n"
     ]
    }
   ],
   "source": [
    "a=int(input(\"Enter the number to be checked whether it is even or not:\\t\"))\n",
    "print(\"The checked number is \",bool(a%2==0))"
   ]
  },
  {
   "cell_type": "code",
   "execution_count": null,
   "metadata": {},
   "outputs": [],
   "source": []
  }
 ],
 "metadata": {
  "kernelspec": {
   "display_name": "Python 3",
   "language": "python",
   "name": "python3"
  },
  "language_info": {
   "codemirror_mode": {
    "name": "ipython",
    "version": 3
   },
   "file_extension": ".py",
   "mimetype": "text/x-python",
   "name": "python",
   "nbconvert_exporter": "python",
   "pygments_lexer": "ipython3",
   "version": "3.7.4"
  }
 },
 "nbformat": 4,
 "nbformat_minor": 2
}
